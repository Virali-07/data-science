{
 "cells": [
  {
   "cell_type": "code",
   "execution_count": 62,
   "id": "38285af5-b8f5-41c7-9aa4-e8c8f05a6a99",
   "metadata": {},
   "outputs": [
    {
     "name": "stdout",
     "output_type": "stream",
     "text": [
      "Data clean Successfully\n"
     ]
    }
   ],
   "source": [
    "import json\n",
    "\n",
    "def clean_data(data):\n",
    "\n",
    "    # remove name\n",
    "    data['users'] = [user for user in data['users'] if user['name']]\n",
    "\n",
    "\n",
    "    #remove dublicate\n",
    "    for user in data['users']:\n",
    "        user['friends'] = list(set(user['friends']))\n",
    "\n",
    "\n",
    "    #remove empty friend or liked page\n",
    "    data['users'] = [user for user in data['users'] if user['friends'] or user['liked_pages']]\n",
    "\n",
    "\n",
    "    # remove dublicate name pages\n",
    "    unique_value = {}\n",
    "    for page in data['pages']:\n",
    "        unique_value[page['id']] = page\n",
    "    data['pages'] = list(unique_value.values())\n",
    "\n",
    "\n",
    "    \n",
    "    return data\n",
    "\n",
    "\n",
    "data = json.load(open(\"unstructured.json\", \"r\"))\n",
    "data = clean_data(data)\n",
    "json.dump(data, open(\"file_cleaned.json\", \"w\"), indent = 4)\n",
    "print(\"Data clean Successfully\")"
   ]
  }
 ],
 "metadata": {
  "kernelspec": {
   "display_name": "Python [conda env:base] *",
   "language": "python",
   "name": "conda-base-py"
  },
  "language_info": {
   "codemirror_mode": {
    "name": "ipython",
    "version": 3
   },
   "file_extension": ".py",
   "mimetype": "text/x-python",
   "name": "python",
   "nbconvert_exporter": "python",
   "pygments_lexer": "ipython3",
   "version": "3.12.7"
  }
 },
 "nbformat": 4,
 "nbformat_minor": 5
}
