{
 "cells": [
  {
   "cell_type": "code",
   "execution_count": 13,
   "id": "947261e5-5e9a-41a0-a282-037154a2cde2",
   "metadata": {},
   "outputs": [
    {
     "name": "stdout",
     "output_type": "stream",
     "text": [
      "[11, 6, 4, 7, 14, 15, 18, 1, 2, 3, 13, 22]\n"
     ]
    }
   ],
   "source": [
    "import json\n",
    "\n",
    "def load_file(filename):\n",
    "    with open(filename,\"r\") as f:\n",
    "        return json.load(f)\n",
    "\n",
    "def p_y_m_k(user_id,data):\n",
    "    user_friends ={}\n",
    "    for user in data['users']:\n",
    "        user_friends[user['id']] = set(user['friends'])\n",
    "\n",
    "    if user_id not in user_friends:\n",
    "        return []\n",
    "\n",
    "    direct_friends = user_friends[user_id]\n",
    "    suggestion = {}\n",
    "\n",
    "    for friend in direct_friends:\n",
    "        for mutual in user_friends[friend]:\n",
    "            if mutual!=user_id and mutual not in direct_friends:\n",
    "                suggestion[mutual] = suggestion.get(mutual , 0) + 1\n",
    "\n",
    "    sorted_suggestion = sorted(suggestion.items(), key = lambda x : x[1] , reverse = True)\n",
    "\n",
    "    return [user_id for user_id, _ in sorted_suggestion]\n",
    "\n",
    "\n",
    "\n",
    "\n",
    "# Loads\n",
    "data = load_file(\"massive.json\")\n",
    "user_id = 10\n",
    "recc = p_y_m_k(user_id,data)\n",
    "print(recc)\n"
   ]
  },
  {
   "cell_type": "code",
   "execution_count": null,
   "id": "a8d39377-1cfc-43dc-bfc4-880ce0e41244",
   "metadata": {},
   "outputs": [],
   "source": [
    "import json\n",
    "# Loding file\n",
    "\n",
    "def load_file(filename):\n",
    "    with open(filename, \"r\") as f:\n",
    "        return json.load(f)\n",
    "\n",
    "def p_y_m_k(user_id,data):\n",
    "    # kon kena katla friends che\n",
    "    user_friends = {}\n",
    "    for user in data['users']:\n",
    "        user_friends[user['id']] = set(user['friends'])\n",
    "\n",
    "    # khali na hovo khape friends\n",
    "    if user_id not in user_friends:\n",
    "        return []\n",
    "\n",
    "    direct_friends = user_friends[user_id]\n",
    "    suggestion = {}\n",
    "\n",
    "    for friend in direct_friends:\n",
    "        for mutual in user_friends[friend]:\n",
    "            if mutual!=user_id and mutual not in direct_friends:\n",
    "\n",
    "                suggestion[mutual] = suggestion.get(mutual,0) + 1\n",
    "    sorted_suggestion = sorted(suggestion.items(), key = lambda x:x[1], reverse = True)\n",
    "    return [user_id for user_id , _ in sorted_suggestion]\n",
    "\n",
    "\n",
    "\n",
    "# Load\n",
    "data = load_file(\"massive.json\")\n",
    "user_id = 7\n",
    "recc = p_y_m_k(user_id,data)\n",
    "print(recc)"
   ]
  }
 ],
 "metadata": {
  "kernelspec": {
   "display_name": "Python [conda env:base] *",
   "language": "python",
   "name": "conda-base-py"
  },
  "language_info": {
   "codemirror_mode": {
    "name": "ipython",
    "version": 3
   },
   "file_extension": ".py",
   "mimetype": "text/x-python",
   "name": "python",
   "nbconvert_exporter": "python",
   "pygments_lexer": "ipython3",
   "version": "3.12.7"
  }
 },
 "nbformat": 4,
 "nbformat_minor": 5
}
