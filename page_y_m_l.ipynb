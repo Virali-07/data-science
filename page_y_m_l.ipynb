{
 "cells": [
  {
   "cell_type": "code",
   "execution_count": 14,
   "id": "90562eec-9c4b-44b6-bac3-ece33544a69c",
   "metadata": {},
   "outputs": [
    {
     "name": "stdout",
     "output_type": "stream",
     "text": [
      "[[103, 2], [105, 1], [107, 1], [104, 0], [106, 0], [108, 0], [109, 0], [110, 0], [111, 0], [112, 0], [113, 0], [114, 0], [115, 0], [116, 0], [117, 0], [118, 0], [119, 0], [120, 0], [121, 0], [122, 0], [123, 0], [124, 0], [125, 0], [126, 0], [127, 0]]\n"
     ]
    }
   ],
   "source": [
    "import json\n",
    "\n",
    "def load_file(filename):\n",
    "    with open(filename , \"r\") as f:\n",
    "        return json.load(f)\n",
    "\n",
    "def page_y_m_l(user_id,data):\n",
    "    user_pages = {}\n",
    "    for user in data['users']:\n",
    "        user_pages[user['id']] = set(user['liked_pages'])\n",
    "\n",
    "    if user_id not in user_pages:\n",
    "        return []\n",
    "\n",
    "    pages_like = user_pages[user_id]\n",
    "    page_suggestion = {}\n",
    "\n",
    "    for other_user,pages in user_pages.items():\n",
    "        if other_user != user_id:\n",
    "            shared_pages = pages_like.intersection(pages)\n",
    "        \n",
    "        for page  in pages:\n",
    "            if page not in pages_like:\n",
    "                page_suggestion[page] = page_suggestion.get(page, 0) + len(shared_pages)\n",
    "\n",
    "    sorted_suggestion = sorted(page_suggestion.items(), key =lambda x : x[1], reverse = True)\n",
    "    return [[user_pages, score] for user_pages , score in sorted_suggestion]\n",
    "            \n",
    "\n",
    "\n",
    "\n",
    "# Load File\n",
    "data = load_file(\"massive.json\")\n",
    "user_id = 1\n",
    "p_recc = page_y_m_l(user_id,data)\n",
    "print(p_recc)"
   ]
  }
 ],
 "metadata": {
  "kernelspec": {
   "display_name": "Python [conda env:base] *",
   "language": "python",
   "name": "conda-base-py"
  },
  "language_info": {
   "codemirror_mode": {
    "name": "ipython",
    "version": 3
   },
   "file_extension": ".py",
   "mimetype": "text/x-python",
   "name": "python",
   "nbconvert_exporter": "python",
   "pygments_lexer": "ipython3",
   "version": "3.12.7"
  }
 },
 "nbformat": 4,
 "nbformat_minor": 5
}
